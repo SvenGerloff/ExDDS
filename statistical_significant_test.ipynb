{
 "cells": [
  {
   "cell_type": "markdown",
   "id": "317198f5-0d30-4ad3-8b82-3ffaa0c03db5",
   "metadata": {},
   "source": [
    "# Statistical Significance Test"
   ]
  },
  {
   "cell_type": "markdown",
   "id": "2a4bf8a9-5905-48dd-ad18-16ed228d19dd",
   "metadata": {},
   "source": [
    "## Imports"
   ]
  },
  {
   "cell_type": "code",
   "execution_count": 36,
   "id": "241fd04b-2a4e-44ab-8dbe-dcd129c753e5",
   "metadata": {},
   "outputs": [],
   "source": [
    "import os\n",
    "import pandas as pd\n",
    "import numpy as np\n",
    "from statsmodels.stats.contingency_tables import mcnemar\n",
    "from scipy.stats import f_oneway\n",
    "from statsmodels.stats.multicomp import pairwise_tukeyhsd"
   ]
  },
  {
   "cell_type": "markdown",
   "id": "0d1b5bdf-5bc4-47f0-97d6-253dae2cb9a4",
   "metadata": {},
   "source": [
    "## Set Variables"
   ]
  },
  {
   "cell_type": "code",
   "execution_count": 37,
   "id": "65dffdf8-d929-456d-9c29-7f263a9b6f7d",
   "metadata": {},
   "outputs": [],
   "source": [
    "BASE_PATH = \"external_repo\""
   ]
  },
  {
   "cell_type": "code",
   "execution_count": 38,
   "id": "f45c777c-d916-49e2-b6be-ec6bc977cc4e",
   "metadata": {},
   "outputs": [],
   "source": [
    "csv_files = [\n",
    "    \"statistical_significans_random.csv\",\n",
    "    \"statistical_significans_popular.csv\",\n",
    "    \"statistical_significans_GRU4REC.csv\",\n",
    "    \"statistical_significans_GRU4REC_concat.csv\",\n",
    "    \"statistical_significans_encode.csv\",\n",
    "    \"statistical_significans_concat.csv\",\n",
    "    \"statistical_significans_auto.csv\"\n",
    "]"
   ]
  },
  {
   "cell_type": "code",
   "execution_count": 39,
   "id": "699d47b3-cf1d-4362-a271-b409fec247d0",
   "metadata": {},
   "outputs": [],
   "source": [
    "model_names = [\"Random\", \"Popular\",\"GRU4REC\", \"GRU4REC Concat\", \"Cross-sessions Encode\", \"Cross-sessions Concat\", \"Cross-sessions Auto\"]"
   ]
  },
  {
   "cell_type": "code",
   "execution_count": 40,
   "id": "114cc4b9-4fcd-4514-a4b1-03db04c58942",
   "metadata": {},
   "outputs": [],
   "source": [
    "column_names = ['hit', 'precision', 'recall', 'RR', 'AP']\n",
    "\n",
    "columns_data = {col: {} for col in column_names}\n",
    "\n",
    "for model_name, csv_file in zip(model_names, csv_files):\n",
    "    file_path = os.path.join(BASE_PATH, csv_file)\n",
    "    \n",
    "    if not os.path.exists(file_path):\n",
    "        print(f\"Warning: File not found - {file_path}\")\n",
    "        continue\n",
    "        \n",
    "    data = pd.read_csv(file_path)\n",
    "    \n",
    "    for column_name in column_names:\n",
    "        if column_name in data.columns:\n",
    "            columns_data[column_name][model_name] = data[column_name].to_numpy().flatten()\n",
    "        else:\n",
    "            print(f\"Warning: Column '{column_name}' not found in {file_path}\")"
   ]
  },
  {
   "cell_type": "markdown",
   "id": "0958ca8c-c9e8-4323-8d95-ea688bbe8ebd",
   "metadata": {},
   "source": [
    "## McNemar Test for Hitrate"
   ]
  },
  {
   "cell_type": "markdown",
   "id": "8a4a77fe-a446-4d0e-a053-f2607d6e8930",
   "metadata": {},
   "source": [
    "McNemar: Used to test differences in the proportions of dichotomous variables in dependent samples.\n",
    "\n",
    "Null Hypothesis (H0): There is no difference in the proportions of hits between the two models.\n",
    "\n",
    "Alternative Hypothesis (H1): There is a difference in the proportions of hits."
   ]
  },
  {
   "cell_type": "code",
   "execution_count": 41,
   "id": "f159d363-dbc9-49b1-9bff-e285adc949d2",
   "metadata": {},
   "outputs": [
    {
     "name": "stdout",
     "output_type": "stream",
     "text": [
      "McNemar Test for Random:\n",
      "  Statistic: 270.0\n",
      "  p-value: 0.0\n",
      "--------------------------------------------------\n",
      "McNemar Test for Popular:\n",
      "  Statistic: 180.0\n",
      "  p-value: 1.626963566737916e-207\n",
      "--------------------------------------------------\n",
      "McNemar Test for GRU4REC:\n",
      "  Statistic: 238.0\n",
      "  p-value: 6.036948239752762e-171\n",
      "--------------------------------------------------\n",
      "McNemar Test for GRU4REC Concat:\n",
      "  Statistic: 242.0\n",
      "  p-value: 1.0996763960890227e-139\n",
      "--------------------------------------------------\n",
      "McNemar Test for Cross-sessions Concat:\n",
      "  Statistic: 146.0\n",
      "  p-value: 0.13108217841061792\n",
      "--------------------------------------------------\n",
      "McNemar Test for Cross-sessions Auto:\n",
      "  Statistic: 186.0\n",
      "  p-value: 0.8368169204941016\n",
      "--------------------------------------------------\n"
     ]
    }
   ],
   "source": [
    "def mc_nemar(column_data_dict, reference_model):\n",
    "    \n",
    "    mcnemar_results = {}\n",
    "    \n",
    "    for model, model_hit in columns_data['hit'].items():\n",
    "        if model == reference_model:\n",
    "            continue\n",
    "    \n",
    "        contingency_table = pd.crosstab(column_data_dict['hit'][reference_model], model_hit)\n",
    "        result = mcnemar(contingency_table, exact=True, correction=True)\n",
    "        \n",
    "        mcnemar_results[model] = {\n",
    "            'statistic': result.statistic,\n",
    "            'p-value': result.pvalue\n",
    "        }\n",
    "        \n",
    "    return mcnemar_results\n",
    "\n",
    "# Print results\n",
    "mcnemar_results = mc_nemar(columns_data, \"Cross-sessions Encode\")\n",
    "\n",
    "for model, result in mcnemar_results.items():\n",
    "    print(f\"McNemar Test for {model}:\")\n",
    "    print(f\"  Statistic: {result['statistic']}\")\n",
    "    print(f\"  p-value: {result['p-value']}\")\n",
    "    print(\"-\" * 50)"
   ]
  },
  {
   "cell_type": "markdown",
   "id": "7fad1850-3dd2-475d-9ab2-c3556a419585",
   "metadata": {},
   "source": [
    "## One-way ANOVA for other measures"
   ]
  },
  {
   "cell_type": "markdown",
   "id": "3ca8cb0e-ddcf-4f49-b628-5ef7f4889680",
   "metadata": {},
   "source": [
    "ANOVA: Used to test for overall differences between groups.\n",
    "\n",
    "Null Hypothesis (H0): All group means are equal.\n",
    "\n",
    "Alternative Hypothesis (H1): At least one group mean is different.\n",
    "\n",
    "If the p-value from the ANOVA test is below the significance level, it indicates that at least one group mean is different. However, to identify which specific groups differ, a post hoc test is needed."
   ]
  },
  {
   "cell_type": "code",
   "execution_count": 42,
   "id": "27a66a58-5315-4f82-b2e8-0e4036a85dea",
   "metadata": {},
   "outputs": [
    {
     "name": "stdout",
     "output_type": "stream",
     "text": [
      "Oneway Anova for precision:\n",
      "  Statistic: 862.4568570328175\n",
      "  p-value: 0.0\n",
      "  post hoc test:                Multiple Comparison of Means - Tukey HSD, FWER=0.05                \n",
      "==================================================================================\n",
      "        group1                group2        meandiff p-adj   lower   upper  reject\n",
      "----------------------------------------------------------------------------------\n",
      "  Cross-sessions Auto Cross-sessions Concat  -0.0012 0.9999 -0.0111  0.0087  False\n",
      "  Cross-sessions Auto Cross-sessions Encode  -0.0006    1.0 -0.0105  0.0093  False\n",
      "  Cross-sessions Auto               GRU4REC  -0.0744    0.0 -0.0843 -0.0645   True\n",
      "  Cross-sessions Auto        GRU4REC Concat  -0.0637    0.0 -0.0736 -0.0538   True\n",
      "  Cross-sessions Auto               Popular  -0.0855    0.0 -0.0954 -0.0756   True\n",
      "  Cross-sessions Auto                Random  -0.1933    0.0 -0.2032 -0.1834   True\n",
      "Cross-sessions Concat Cross-sessions Encode   0.0006    1.0 -0.0094  0.0105  False\n",
      "Cross-sessions Concat               GRU4REC  -0.0732    0.0 -0.0831 -0.0633   True\n",
      "Cross-sessions Concat        GRU4REC Concat  -0.0625    0.0 -0.0724 -0.0526   True\n",
      "Cross-sessions Concat               Popular  -0.0843    0.0 -0.0942 -0.0744   True\n",
      "Cross-sessions Concat                Random  -0.1922    0.0 -0.2021 -0.1822   True\n",
      "Cross-sessions Encode               GRU4REC  -0.0738    0.0 -0.0837 -0.0639   True\n",
      "Cross-sessions Encode        GRU4REC Concat  -0.0631    0.0  -0.073 -0.0531   True\n",
      "Cross-sessions Encode               Popular  -0.0849    0.0 -0.0948  -0.075   True\n",
      "Cross-sessions Encode                Random  -0.1927    0.0 -0.2026 -0.1828   True\n",
      "              GRU4REC        GRU4REC Concat   0.0107 0.0239  0.0008  0.0206   True\n",
      "              GRU4REC               Popular  -0.0111 0.0167  -0.021 -0.0012   True\n",
      "              GRU4REC                Random  -0.1189    0.0 -0.1288  -0.109   True\n",
      "       GRU4REC Concat               Popular  -0.0218    0.0 -0.0317 -0.0119   True\n",
      "       GRU4REC Concat                Random  -0.1297    0.0 -0.1396 -0.1197   True\n",
      "              Popular                Random  -0.1078    0.0 -0.1177 -0.0979   True\n",
      "----------------------------------------------------------------------------------\n",
      "Oneway Anova for recall:\n",
      "  Statistic: 1038.3305677197563\n",
      "  p-value: 0.0\n",
      "  post hoc test:                Multiple Comparison of Means - Tukey HSD, FWER=0.05                \n",
      "==================================================================================\n",
      "        group1                group2        meandiff p-adj   lower   upper  reject\n",
      "----------------------------------------------------------------------------------\n",
      "  Cross-sessions Auto Cross-sessions Concat  -0.0051 0.9962 -0.0296  0.0193  False\n",
      "  Cross-sessions Auto Cross-sessions Encode  -0.0009    1.0 -0.0253  0.0236  False\n",
      "  Cross-sessions Auto               GRU4REC  -0.1984    0.0 -0.2228 -0.1739   True\n",
      "  Cross-sessions Auto        GRU4REC Concat  -0.1694    0.0 -0.1939 -0.1449   True\n",
      "  Cross-sessions Auto               Popular  -0.2204    0.0 -0.2449  -0.196   True\n",
      "  Cross-sessions Auto                Random  -0.5268    0.0 -0.5512 -0.5023   True\n",
      "Cross-sessions Concat Cross-sessions Encode   0.0043 0.9986 -0.0202  0.0288  False\n",
      "Cross-sessions Concat               GRU4REC  -0.1932    0.0 -0.2177 -0.1687   True\n",
      "Cross-sessions Concat        GRU4REC Concat  -0.1643    0.0 -0.1887 -0.1398   True\n",
      "Cross-sessions Concat               Popular  -0.2153    0.0 -0.2398 -0.1908   True\n",
      "Cross-sessions Concat                Random  -0.5216    0.0 -0.5461 -0.4972   True\n",
      "Cross-sessions Encode               GRU4REC  -0.1975    0.0  -0.222  -0.173   True\n",
      "Cross-sessions Encode        GRU4REC Concat  -0.1685    0.0  -0.193 -0.1441   True\n",
      "Cross-sessions Encode               Popular  -0.2196    0.0  -0.244 -0.1951   True\n",
      "Cross-sessions Encode                Random  -0.5259    0.0 -0.5504 -0.5014   True\n",
      "              GRU4REC        GRU4REC Concat   0.0289 0.0088  0.0045  0.0534   True\n",
      "              GRU4REC               Popular  -0.0221  0.109 -0.0465  0.0024  False\n",
      "              GRU4REC                Random  -0.3284    0.0 -0.3529 -0.3039   True\n",
      "       GRU4REC Concat               Popular   -0.051    0.0 -0.0755 -0.0265   True\n",
      "       GRU4REC Concat                Random  -0.3574    0.0 -0.3818 -0.3329   True\n",
      "              Popular                Random  -0.3063    0.0 -0.3308 -0.2819   True\n",
      "----------------------------------------------------------------------------------\n",
      "Oneway Anova for RR:\n",
      "  Statistic: 1114.321576376598\n",
      "  p-value: 0.0\n",
      "  post hoc test:                Multiple Comparison of Means - Tukey HSD, FWER=0.05                \n",
      "==================================================================================\n",
      "        group1                group2        meandiff p-adj   lower   upper  reject\n",
      "----------------------------------------------------------------------------------\n",
      "  Cross-sessions Auto Cross-sessions Concat    0.002    1.0 -0.0212  0.0253  False\n",
      "  Cross-sessions Auto Cross-sessions Encode  -0.0004    1.0 -0.0236  0.0229  False\n",
      "  Cross-sessions Auto               GRU4REC  -0.1673    0.0 -0.1905  -0.144   True\n",
      "  Cross-sessions Auto        GRU4REC Concat  -0.1434    0.0 -0.1667 -0.1202   True\n",
      "  Cross-sessions Auto               Popular  -0.2269    0.0 -0.2502 -0.2037   True\n",
      "  Cross-sessions Auto                Random  -0.5158    0.0 -0.5391 -0.4926   True\n",
      "Cross-sessions Concat Cross-sessions Encode  -0.0024 0.9999 -0.0257  0.0208  False\n",
      "Cross-sessions Concat               GRU4REC  -0.1693    0.0 -0.1926  -0.146   True\n",
      "Cross-sessions Concat        GRU4REC Concat  -0.1455    0.0 -0.1688 -0.1222   True\n",
      "Cross-sessions Concat               Popular   -0.229    0.0 -0.2522 -0.2057   True\n",
      "Cross-sessions Concat                Random  -0.5179    0.0 -0.5412 -0.4946   True\n",
      "Cross-sessions Encode               GRU4REC  -0.1669    0.0 -0.1901 -0.1436   True\n",
      "Cross-sessions Encode        GRU4REC Concat  -0.1431    0.0 -0.1663 -0.1198   True\n",
      "Cross-sessions Encode               Popular  -0.2266    0.0 -0.2498 -0.2033   True\n",
      "Cross-sessions Encode                Random  -0.5155    0.0 -0.5387 -0.4922   True\n",
      "              GRU4REC        GRU4REC Concat   0.0238 0.0408  0.0005  0.0471   True\n",
      "              GRU4REC               Popular  -0.0597    0.0 -0.0829 -0.0364   True\n",
      "              GRU4REC                Random  -0.3486    0.0 -0.3718 -0.3253   True\n",
      "       GRU4REC Concat               Popular  -0.0835    0.0 -0.1068 -0.0602   True\n",
      "       GRU4REC Concat                Random  -0.3724    0.0 -0.3957 -0.3491   True\n",
      "              Popular                Random  -0.2889    0.0 -0.3122 -0.2656   True\n",
      "----------------------------------------------------------------------------------\n",
      "Oneway Anova for AP:\n",
      "  Statistic: 1138.771779939513\n",
      "  p-value: 0.0\n",
      "  post hoc test:                Multiple Comparison of Means - Tukey HSD, FWER=0.05                \n",
      "==================================================================================\n",
      "        group1                group2        meandiff p-adj   lower   upper  reject\n",
      "----------------------------------------------------------------------------------\n",
      "  Cross-sessions Auto Cross-sessions Concat   0.0023 0.9999 -0.0207  0.0254  False\n",
      "  Cross-sessions Auto Cross-sessions Encode   -0.001    1.0  -0.024  0.0221  False\n",
      "  Cross-sessions Auto               GRU4REC  -0.1694    0.0 -0.1925 -0.1464   True\n",
      "  Cross-sessions Auto        GRU4REC Concat  -0.1438    0.0 -0.1668 -0.1207   True\n",
      "  Cross-sessions Auto               Popular  -0.2327    0.0 -0.2558 -0.2097   True\n",
      "  Cross-sessions Auto                Random  -0.5155    0.0 -0.5385 -0.4924   True\n",
      "Cross-sessions Concat Cross-sessions Encode  -0.0033 0.9996 -0.0263  0.0198  False\n",
      "Cross-sessions Concat               GRU4REC  -0.1717    0.0 -0.1948 -0.1487   True\n",
      "Cross-sessions Concat        GRU4REC Concat  -0.1461    0.0 -0.1691  -0.123   True\n",
      "Cross-sessions Concat               Popular   -0.235    0.0 -0.2581  -0.212   True\n",
      "Cross-sessions Concat                Random  -0.5178    0.0 -0.5408 -0.4947   True\n",
      "Cross-sessions Encode               GRU4REC  -0.1685    0.0 -0.1915 -0.1454   True\n",
      "Cross-sessions Encode        GRU4REC Concat  -0.1428    0.0 -0.1659 -0.1198   True\n",
      "Cross-sessions Encode               Popular  -0.2318    0.0 -0.2548 -0.2087   True\n",
      "Cross-sessions Encode                Random  -0.5145    0.0 -0.5376 -0.4915   True\n",
      "              GRU4REC        GRU4REC Concat   0.0257 0.0178  0.0026  0.0487   True\n",
      "              GRU4REC               Popular  -0.0633    0.0 -0.0864 -0.0403   True\n",
      "              GRU4REC                Random   -0.346    0.0 -0.3691  -0.323   True\n",
      "       GRU4REC Concat               Popular   -0.089    0.0  -0.112 -0.0659   True\n",
      "       GRU4REC Concat                Random  -0.3717    0.0 -0.3947 -0.3487   True\n",
      "              Popular                Random  -0.2827    0.0 -0.3058 -0.2597   True\n",
      "----------------------------------------------------------------------------------\n"
     ]
    }
   ],
   "source": [
    "def oneway_anova(column_data_dict, measure):\n",
    "   \n",
    "    anova_results = {}\n",
    "\n",
    "    all_models = list(column_data_dict[measure].values())\n",
    "\n",
    "    f_stat, p_value = f_oneway(*all_models)\n",
    "    anova_results['statistic'] = f_stat\n",
    "    anova_results['p_value'] = p_value\n",
    "\n",
    "    # Perform post hoc test if Anova result is significant\n",
    "    if p_value < 0.05:\n",
    "        combined_data = np.concatenate(all_models)\n",
    "        model_labels = np.concatenate([np.repeat(model, len(data)) for model, data in column_data_dict[measure].items()])\n",
    "\n",
    "        df = pd.DataFrame({\n",
    "            measure: combined_data,\n",
    "            'label': model_labels\n",
    "        })\n",
    "    \n",
    "        tukey_result = pairwise_tukeyhsd(endog=df[measure],\n",
    "                                          groups=df['label'],\n",
    "                                          alpha=0.05)\n",
    "        \n",
    "        anova_results['tukey_hsd'] = tukey_result.summary()\n",
    "\n",
    "    return anova_results\n",
    "\n",
    "# Print results\n",
    "anova_results = {}\n",
    "for column_name in column_names[1:]:  # skip 'hit' column\n",
    "    anova_results[column_name] = oneway_anova(columns_data, column_name)\n",
    "\n",
    "for model, result in anova_results.items():\n",
    "    print(f\"Oneway Anova for {model}:\")\n",
    "    print(f\"  Statistic: {result['statistic']}\")\n",
    "    print(f\"  p-value: {result['p_value']}\")\n",
    "    print(f\"  post hoc test: {result['tukey_hsd']}\")\n"
   ]
  },
  {
   "cell_type": "code",
   "execution_count": null,
   "id": "eb8e292a-e9e9-466e-844e-8fde07fc1ce9",
   "metadata": {},
   "outputs": [],
   "source": []
  }
 ],
 "metadata": {
  "kernelspec": {
   "display_name": "Python 3 (ipykernel)",
   "language": "python",
   "name": "python3"
  },
  "language_info": {
   "codemirror_mode": {
    "name": "ipython",
    "version": 3
   },
   "file_extension": ".py",
   "mimetype": "text/x-python",
   "name": "python",
   "nbconvert_exporter": "python",
   "pygments_lexer": "ipython3",
   "version": "3.11.10"
  }
 },
 "nbformat": 4,
 "nbformat_minor": 5
}
