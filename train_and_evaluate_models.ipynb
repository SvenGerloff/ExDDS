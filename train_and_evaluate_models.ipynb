{
 "cells": [
  {
   "cell_type": "code",
   "execution_count": 1,
   "id": "c14e6dd5-c352-4b71-aa2b-20cc076d10bd",
   "metadata": {},
   "outputs": [],
   "source": [
    "import os\n",
    "import sys\n",
    "import subprocess\n",
    "from IPython.display import display, HTML\n",
    "import pandas as pd"
   ]
  },
  {
   "cell_type": "code",
   "execution_count": 2,
   "id": "9ec400d0-1f85-455b-a2a2-6de5c0ba4f84",
   "metadata": {},
   "outputs": [],
   "source": [
    "BASE_PATH = \"external_repo\"\n",
    "RETRAIN_IF_EXISTS = False\n",
    "RERUN_EVAL_IF_EXISTS = False"
   ]
  },
  {
   "cell_type": "markdown",
   "id": "ca964c9d-2a44-4704-b18f-e28806cfc9ac",
   "metadata": {},
   "source": [
    "### Dataset Curation & Preprocessing\n",
    "\n",
    "The repository already provides the preprocessed datasets with the exceptoin of portfolios and demographic attributes used to implement the insurance baseline models SVD and demographic, due to privacy protection."
   ]
  },
  {
   "cell_type": "code",
   "execution_count": 3,
   "id": "3189f41f-c304-465d-93a6-dc40e7cd63b4",
   "metadata": {},
   "outputs": [],
   "source": [
    "purchase_events_train = pd.read_csv(os.path.join(BASE_PATH,\"purchase_events_train.csv\"))\n",
    "purchase_events_test = pd.read_csv(os.path.join(BASE_PATH,\"purchase_events_test.csv\"))\n",
    "sessions_train = pd.read_csv(os.path.join(BASE_PATH,\"sessions_train.csv\"))\n",
    "sessions_test = pd.read_csv(os.path.join(BASE_PATH,\"sessions_test.csv\"))\n",
    "filter_train = pd.read_csv(os.path.join(BASE_PATH,\"filter_train.csv\"))\n",
    "filter_test = pd.read_csv(os.path.join(BASE_PATH,\"filter_test.csv\"))"
   ]
  },
  {
   "cell_type": "code",
   "execution_count": 4,
   "id": "01c3ca1c-1cdb-4689-ad77-c82df2e27e97",
   "metadata": {},
   "outputs": [
    {
     "name": "stdout",
     "output_type": "stream",
     "text": [
      "============ PURCHASE EVENTS\n"
     ]
    },
    {
     "data": {
      "text/html": [
       "<div>\n",
       "<style scoped>\n",
       "    .dataframe tbody tr th:only-of-type {\n",
       "        vertical-align: middle;\n",
       "    }\n",
       "\n",
       "    .dataframe tbody tr th {\n",
       "        vertical-align: top;\n",
       "    }\n",
       "\n",
       "    .dataframe thead th {\n",
       "        text-align: right;\n",
       "    }\n",
       "</style>\n",
       "<table border=\"1\" class=\"dataframe\">\n",
       "  <thead>\n",
       "    <tr style=\"text-align: right;\">\n",
       "      <th></th>\n",
       "      <th>event_id</th>\n",
       "      <th>valid</th>\n",
       "      <th>item_id</th>\n",
       "    </tr>\n",
       "  </thead>\n",
       "  <tbody>\n",
       "    <tr>\n",
       "      <th>0</th>\n",
       "      <td>1</td>\n",
       "      <td>0</td>\n",
       "      <td>item_15</td>\n",
       "    </tr>\n",
       "    <tr>\n",
       "      <th>1</th>\n",
       "      <td>2</td>\n",
       "      <td>0</td>\n",
       "      <td>item_1</td>\n",
       "    </tr>\n",
       "    <tr>\n",
       "      <th>2</th>\n",
       "      <td>3</td>\n",
       "      <td>0</td>\n",
       "      <td>item_11</td>\n",
       "    </tr>\n",
       "  </tbody>\n",
       "</table>\n",
       "</div>"
      ],
      "text/plain": [
       "   event_id  valid  item_id\n",
       "0         1      0  item_15\n",
       "1         2      0   item_1\n",
       "2         3      0  item_11"
      ]
     },
     "metadata": {},
     "output_type": "display_data"
    },
    {
     "name": "stdout",
     "output_type": "stream",
     "text": [
      "\n",
      "============ SESSIONS\n"
     ]
    },
    {
     "data": {
      "text/html": [
       "<div>\n",
       "<style scoped>\n",
       "    .dataframe tbody tr th:only-of-type {\n",
       "        vertical-align: middle;\n",
       "    }\n",
       "\n",
       "    .dataframe tbody tr th {\n",
       "        vertical-align: top;\n",
       "    }\n",
       "\n",
       "    .dataframe thead th {\n",
       "        text-align: right;\n",
       "    }\n",
       "</style>\n",
       "<table border=\"1\" class=\"dataframe\">\n",
       "  <thead>\n",
       "    <tr style=\"text-align: right;\">\n",
       "      <th></th>\n",
       "      <th>event_id</th>\n",
       "      <th>valid</th>\n",
       "      <th>session_id</th>\n",
       "      <th>action_time</th>\n",
       "      <th>action_section</th>\n",
       "      <th>action_object</th>\n",
       "      <th>action_type</th>\n",
       "    </tr>\n",
       "  </thead>\n",
       "  <tbody>\n",
       "    <tr>\n",
       "      <th>0</th>\n",
       "      <td>33257</td>\n",
       "      <td>0</td>\n",
       "      <td>67298</td>\n",
       "      <td>2020-01-20 18:44:18</td>\n",
       "      <td>personal_account</td>\n",
       "      <td>service_6</td>\n",
       "      <td>click</td>\n",
       "    </tr>\n",
       "    <tr>\n",
       "      <th>1</th>\n",
       "      <td>1001</td>\n",
       "      <td>0</td>\n",
       "      <td>1911</td>\n",
       "      <td>2018-10-22 02:34:32</td>\n",
       "      <td>personal_account</td>\n",
       "      <td>service_14</td>\n",
       "      <td>click</td>\n",
       "    </tr>\n",
       "    <tr>\n",
       "      <th>2</th>\n",
       "      <td>35229</td>\n",
       "      <td>0</td>\n",
       "      <td>73022</td>\n",
       "      <td>2020-02-14 10:16:45</td>\n",
       "      <td>information_2</td>\n",
       "      <td>item_13</td>\n",
       "      <td>click</td>\n",
       "    </tr>\n",
       "  </tbody>\n",
       "</table>\n",
       "</div>"
      ],
      "text/plain": [
       "   event_id  valid  session_id          action_time    action_section  \\\n",
       "0     33257      0       67298  2020-01-20 18:44:18  personal_account   \n",
       "1      1001      0        1911  2018-10-22 02:34:32  personal_account   \n",
       "2     35229      0       73022  2020-02-14 10:16:45     information_2   \n",
       "\n",
       "  action_object action_type  \n",
       "0     service_6       click  \n",
       "1    service_14       click  \n",
       "2       item_13       click  "
      ]
     },
     "metadata": {},
     "output_type": "display_data"
    },
    {
     "name": "stdout",
     "output_type": "stream",
     "text": [
      "\n",
      "============ FILTER\n"
     ]
    },
    {
     "data": {
      "text/html": [
       "<div>\n",
       "<style scoped>\n",
       "    .dataframe tbody tr th:only-of-type {\n",
       "        vertical-align: middle;\n",
       "    }\n",
       "\n",
       "    .dataframe tbody tr th {\n",
       "        vertical-align: top;\n",
       "    }\n",
       "\n",
       "    .dataframe thead th {\n",
       "        text-align: right;\n",
       "    }\n",
       "</style>\n",
       "<table border=\"1\" class=\"dataframe\">\n",
       "  <thead>\n",
       "    <tr style=\"text-align: right;\">\n",
       "      <th></th>\n",
       "      <th>event_id</th>\n",
       "      <th>valid</th>\n",
       "      <th>item_id</th>\n",
       "    </tr>\n",
       "  </thead>\n",
       "  <tbody>\n",
       "    <tr>\n",
       "      <th>0</th>\n",
       "      <td>1</td>\n",
       "      <td>0</td>\n",
       "      <td>item_1</td>\n",
       "    </tr>\n",
       "    <tr>\n",
       "      <th>1</th>\n",
       "      <td>1</td>\n",
       "      <td>0</td>\n",
       "      <td>item_3</td>\n",
       "    </tr>\n",
       "    <tr>\n",
       "      <th>2</th>\n",
       "      <td>1</td>\n",
       "      <td>0</td>\n",
       "      <td>item_6</td>\n",
       "    </tr>\n",
       "  </tbody>\n",
       "</table>\n",
       "</div>"
      ],
      "text/plain": [
       "   event_id  valid item_id\n",
       "0         1      0  item_1\n",
       "1         1      0  item_3\n",
       "2         1      0  item_6"
      ]
     },
     "metadata": {},
     "output_type": "display_data"
    }
   ],
   "source": [
    "print(\"============ PURCHASE EVENTS\")\n",
    "display(purchase_events_train.head(3))\n",
    "print(\"\\n============ SESSIONS\")\n",
    "display(sessions_train.head(3))\n",
    "print(\"\\n============ FILTER\")\n",
    "display(filter_train.head(3))"
   ]
  },
  {
   "cell_type": "markdown",
   "id": "c92f204c-230f-4833-9baf-d7d002eef363",
   "metadata": {},
   "source": [
    "### Model Training"
   ]
  },
  {
   "cell_type": "code",
   "execution_count": 5,
   "id": "628a2453-5d30-4c3b-991b-e1b20d60575d",
   "metadata": {},
   "outputs": [],
   "source": [
    "def run_module(module: str):\n",
    "    \"\"\"Run a Python script in specified directory.\"\"\"\n",
    "    result = subprocess.run(\n",
    "        [sys.executable, module],\n",
    "        capture_output=True,\n",
    "        text=True,\n",
    "        cwd=BASE_PATH  # Set working directory for subprocess\n",
    "    )\n",
    "    if result.returncode != 0:\n",
    "        print(\"Error output:\", result.stderr)\n",
    "    return result.stdout"
   ]
  },
  {
   "cell_type": "code",
   "execution_count": 6,
   "id": "3dc4afb0-12da-458a-9bc7-63bbf7e34c87",
   "metadata": {},
   "outputs": [],
   "source": [
    "# Random - No training required\n",
    "# Popularity - No training required\n",
    "# SVD - Not reproducable due to missing data\n",
    "# Demographic - not reproducable due to missing data and missing file"
   ]
  },
  {
   "cell_type": "code",
   "execution_count": 7,
   "id": "521b1ff4-e0fc-48a8-be8b-b75dc2dd0736",
   "metadata": {},
   "outputs": [],
   "source": [
    "# GRU4REC\n",
    "if RETRAIN_IF_EXISTS or not os.path.exists(os.path.join(BASE_PATH, \"model_GRU4REC.h5\")):\n",
    "    _ = run_module(\"GRU4REC.py\")"
   ]
  },
  {
   "cell_type": "code",
   "execution_count": 8,
   "id": "aea83e88-a877-4eb2-a3ee-fbec553fc7c6",
   "metadata": {},
   "outputs": [],
   "source": [
    "# GRU4REC Concat\n",
    "if RETRAIN_IF_EXISTS or not os.path.exists(os.path.join(BASE_PATH, \"model_GRU4REC_concat.h5\")):\n",
    "    _ = run_module(\"GRU4REC_concat.py\")"
   ]
  },
  {
   "cell_type": "code",
   "execution_count": 9,
   "id": "739fb30e-02f1-4c80-9b43-ce9b9ee7c0c8",
   "metadata": {},
   "outputs": [],
   "source": [
    "# SKNN_E - not reproducable due to missing file\n",
    "# SKNN_EB - not reproducable due to missing file"
   ]
  },
  {
   "cell_type": "code",
   "execution_count": 10,
   "id": "75b61a87-4200-440d-ad52-70a04fa887b6",
   "metadata": {},
   "outputs": [],
   "source": [
    "# Cross Session Auto\n",
    "if RETRAIN_IF_EXISTS or not os.path.exists(os.path.join(BASE_PATH, \"model_auto.h5\")):\n",
    "    _ = run_module(\"cross_sessions_auto.py\")"
   ]
  },
  {
   "cell_type": "code",
   "execution_count": 11,
   "id": "c7504121-27d9-4f15-8862-f27c9ed669ca",
   "metadata": {},
   "outputs": [],
   "source": [
    "# Cross Session Concat\n",
    "if RETRAIN_IF_EXISTS or not os.path.exists(os.path.join(BASE_PATH, \"model_concat.h5\")):\n",
    "    _ = run_module(\"cross_sessions_concat.py\")"
   ]
  },
  {
   "cell_type": "code",
   "execution_count": 12,
   "id": "0c480b23-35f9-4f86-a8cb-746a3b70be6d",
   "metadata": {},
   "outputs": [],
   "source": [
    "# Cross Session Encode\n",
    "if RETRAIN_IF_EXISTS or not os.path.exists(os.path.join(BASE_PATH, \"model_encode.h5\")):\n",
    "    _ = run_module(\"cross_sessions_encode.py\")"
   ]
  },
  {
   "cell_type": "markdown",
   "id": "0b134797-92c6-4d39-a0e3-61c2b3355a30",
   "metadata": {},
   "source": [
    "### Evaluation"
   ]
  },
  {
   "cell_type": "code",
   "execution_count": 28,
   "id": "aa59a355-20ae-4145-ab71-a02216075f85",
   "metadata": {},
   "outputs": [],
   "source": [
    "def eval_exists(module: str):\n",
    "    stat_sign_exists = os.path.exists(os.path.join(BASE_PATH, f\"statistical_significans_{module}.csv\"))\n",
    "    var_thresholds_exists = os.path.exists(os.path.join(BASE_PATH, f\"varying_thresholds_{module}.csv\"))\n",
    "    return stat_sign_exists and var_thresholds_exists"
   ]
  },
  {
   "cell_type": "code",
   "execution_count": 14,
   "id": "5f529fb4-abf4-44aa-851c-fa21680b8673",
   "metadata": {},
   "outputs": [],
   "source": [
    "# Random\n",
    "if RERUN_EVAL_IF_EXISTS or not eval_exists(\"random\"):\n",
    "    _ = run_module(\"random_evaluation.py\")"
   ]
  },
  {
   "cell_type": "code",
   "execution_count": 15,
   "id": "e6cc0b1b-c405-4172-842e-7dbd0916c556",
   "metadata": {},
   "outputs": [],
   "source": [
    "# Popularity\n",
    "if RERUN_EVAL_IF_EXISTS or not eval_exists(\"popular\"):\n",
    "    _ = run_module(\"popular_evaluation.py\")"
   ]
  },
  {
   "cell_type": "code",
   "execution_count": 16,
   "id": "e168627c-9d2f-474c-aee3-9270cf79f3b8",
   "metadata": {},
   "outputs": [],
   "source": [
    "# SVD - not reproducable due to missing data\n",
    "# Demographic - not reproducable due to missing data & file"
   ]
  },
  {
   "cell_type": "code",
   "execution_count": 17,
   "id": "38f751ca-bd19-4bb8-a450-ffde2a7b826a",
   "metadata": {},
   "outputs": [],
   "source": [
    "# GRU4REC\n",
    "if RERUN_EVAL_IF_EXISTS or not eval_exists(\"GRU4REC\"):\n",
    "    _ = run_module(\"GRU4REC_evaluation.py\")"
   ]
  },
  {
   "cell_type": "code",
   "execution_count": 18,
   "id": "8caa579e-3794-4e87-b7f6-50e3875d9e4e",
   "metadata": {},
   "outputs": [],
   "source": [
    "# GRU4REC\n",
    "if RERUN_EVAL_IF_EXISTS or not eval_exists(\"GRU4REC_concat\"):\n",
    "    _ = run_module(\"GRU4REC_concat_evaluation.py\")"
   ]
  },
  {
   "cell_type": "code",
   "execution_count": 19,
   "id": "4e4e38c8-f818-4141-bccf-37f6e0e3aac9",
   "metadata": {},
   "outputs": [],
   "source": [
    "# SKNN_E - not reproducable due to missing file\n",
    "# SKNN_EB - not reproducable due to missing file"
   ]
  },
  {
   "cell_type": "code",
   "execution_count": 29,
   "id": "9de249d5-bb85-49ff-83f8-843a24d365b8",
   "metadata": {},
   "outputs": [],
   "source": [
    "# Cross Session Auto\n",
    "if RERUN_EVAL_IF_EXISTS or not eval_exists(\"auto\"):\n",
    "    _ = run_module(\"cross_sessions_auto.py\")"
   ]
  },
  {
   "cell_type": "code",
   "execution_count": 30,
   "id": "28cd40bf-78ff-484a-b882-46a3ca6782cf",
   "metadata": {},
   "outputs": [],
   "source": [
    "# Cross Session Concat\n",
    "if RERUN_EVAL_IF_EXISTS or not eval_exists(\"concat\"):\n",
    "    _ = run_module(\"cross_sessions_concat.py\")"
   ]
  },
  {
   "cell_type": "code",
   "execution_count": 31,
   "id": "43f48e40-fe8a-4fbc-8df9-fefbe8c8fee4",
   "metadata": {},
   "outputs": [],
   "source": [
    "# Cross Session Encode\n",
    "if RERUN_EVAL_IF_EXISTS or not eval_exists(\"encode\"):\n",
    "    _ = run_module(\"cross_sessions_encode.py\")"
   ]
  }
 ],
 "metadata": {
  "kernelspec": {
   "display_name": "Python 3 (ipykernel)",
   "language": "python",
   "name": "python3"
  },
  "language_info": {
   "codemirror_mode": {
    "name": "ipython",
    "version": 3
   },
   "file_extension": ".py",
   "mimetype": "text/x-python",
   "name": "python",
   "nbconvert_exporter": "python",
   "pygments_lexer": "ipython3",
   "version": "3.8.15"
  }
 },
 "nbformat": 4,
 "nbformat_minor": 5
}
